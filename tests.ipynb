{
 "cells": [
  {
   "cell_type": "code",
   "execution_count": 1,
   "metadata": {},
   "outputs": [],
   "source": [
    "from numbers_checker import *\n",
    "from numbers_checker_test import *\n"
   ]
  },
  {
   "cell_type": "code",
   "execution_count": 2,
   "metadata": {},
   "outputs": [],
   "source": [
    "# Autoreload allows not to restart the kernel and automatically update the adjusted modules implementation. \n",
    "%load_ext autoreload\n",
    "%autoreload 2"
   ]
  },
  {
   "cell_type": "code",
   "execution_count": 3,
   "metadata": {},
   "outputs": [
    {
     "name": "stdout",
     "output_type": "stream",
     "text": [
      "NumbersPath(a=2, b=3, steps=([NumbersStep(m=1, n=1)], []))\n"
     ]
    }
   ],
   "source": [
    "test_23()"
   ]
  },
  {
   "cell_type": "code",
   "execution_count": null,
   "metadata": {},
   "outputs": [],
   "source": [
    "test_correct_path(10)"
   ]
  },
  {
   "cell_type": "code",
   "execution_count": 6,
   "metadata": {},
   "outputs": [
    {
     "name": "stdout",
     "output_type": "stream",
     "text": [
      "a= 1  b= 2\n",
      "NumbersPath(a=1, b=2, steps=([NumbersStep(m=0, n=1)], []))\n",
      "a= 1  b= 3\n",
      "NumbersPath(a=1, b=3, steps=([NumbersStep(m=0, n=1), NumbersStep(m=1, n=1)], []))\n",
      "a= 2  b= 3\n",
      "NumbersPath(a=2, b=3, steps=([NumbersStep(m=1, n=1)], []))\n"
     ]
    }
   ],
   "source": [
    "# проверка путей для N = 3\n",
    "\n",
    "N = 3\n",
    "checker = Checker(N)\n",
    "for a in range(1, N + 1):\n",
    "    for b in range(a + 1, N + 1):\n",
    "        print('a=', a, ' b=', b)\n",
    "        path = checker.get_path(a, b) # возвращает NumberPath(a, b, steps=([NumbersStep], [NumbersStep]) )\n",
    "        if path:\n",
    "            print(path)\n",
    "            cur_a, cur_b = a, b\n",
    "            for numbers_step in path.steps[0]: # check a\n",
    "                numbers_step.m + numbers_step.n == cur_a\n",
    "                cur_a  = numbers_step.next()\n",
    "\n",
    "            for numbers_step in path.steps[1]: # check b\n",
    "                assert numbers_step.m + numbers_step.n == cur_b\n",
    "                cur_b = numbers_step.next()\n",
    "        else:\n",
    "            print('path not found')"
   ]
  }
 ],
 "metadata": {
  "kernelspec": {
   "display_name": "Python 3",
   "language": "python",
   "name": "python3"
  },
  "language_info": {
   "codemirror_mode": {
    "name": "ipython",
    "version": 3
   },
   "file_extension": ".py",
   "mimetype": "text/x-python",
   "name": "python",
   "nbconvert_exporter": "python",
   "pygments_lexer": "ipython3",
   "version": "3.12.4"
  }
 },
 "nbformat": 4,
 "nbformat_minor": 2
}
