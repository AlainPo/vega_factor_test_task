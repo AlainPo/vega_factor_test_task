{
 "cells": [
  {
   "cell_type": "code",
   "execution_count": 2,
   "metadata": {},
   "outputs": [],
   "source": [
    "from numbers_checker import *\n",
    "from numbers_checker_test import *\n"
   ]
  },
  {
   "cell_type": "code",
   "execution_count": 3,
   "metadata": {},
   "outputs": [],
   "source": [
    "# Autoreload allows not to restart the kernel and automatically update the adjusted modules implementation. \n",
    "%load_ext autoreload\n",
    "%autoreload 2"
   ]
  },
  {
   "cell_type": "code",
   "execution_count": 4,
   "metadata": {},
   "outputs": [
    {
     "name": "stdout",
     "output_type": "stream",
     "text": [
      "NumbersPath(a=2, b=3, steps=([NumbersStep(m=1, n=1)], []))\n"
     ]
    }
   ],
   "source": [
    "test_23()"
   ]
  },
  {
   "cell_type": "code",
   "execution_count": 5,
   "metadata": {},
   "outputs": [
    {
     "name": "stdout",
     "output_type": "stream",
     "text": [
      "a= 1 b= 2\n",
      "NumbersPath(a=1, b=2, steps=([NumbersStep(m=0, n=1)], []))\n",
      "a= 1 b= 3\n",
      "NumbersPath(a=1, b=3, steps=([NumbersStep(m=0, n=1), NumbersStep(m=1, n=1)], []))\n",
      "a= 1 b= 4\n",
      "NumbersPath(a=1, b=4, steps=([NumbersStep(m=0, n=1), NumbersStep(m=1, n=1), NumbersStep(m=1, n=2), NumbersStep(m=3, n=3), NumbersStep(m=8, n=11)], [NumbersStep(m=0, n=4), NumbersStep(m=4, n=13)]))\n",
      "a= 1 b= 5\n",
      "NumbersPath(a=1, b=5, steps=([NumbersStep(m=0, n=1), NumbersStep(m=0, n=2)], []))\n",
      "a= 1 b= 6\n",
      "NumbersPath(a=1, b=6, steps=([NumbersStep(m=0, n=1), NumbersStep(m=1, n=1), NumbersStep(m=1, n=2)], []))\n",
      "a= 1 b= 7\n",
      "NumbersPath(a=1, b=7, steps=([NumbersStep(m=0, n=1), NumbersStep(m=0, n=2), NumbersStep(m=0, n=5)], [NumbersStep(m=3, n=4)]))\n",
      "a= 1 b= 8\n",
      "NumbersPath(a=1, b=8, steps=([NumbersStep(m=0, n=1), NumbersStep(m=1, n=1), NumbersStep(m=0, n=3), NumbersStep(m=5, n=5)], [NumbersStep(m=1, n=7)]))\n",
      "a= 1 b= 9\n"
     ]
    }
   ],
   "source": [
    "test_correct_path(10)"
   ]
  },
  {
   "cell_type": "code",
   "execution_count": 5,
   "metadata": {},
   "outputs": [
    {
     "name": "stdout",
     "output_type": "stream",
     "text": [
      "\n",
      "a= 1  b= 2\n",
      "Path from 1 to 2:\n",
      "Steps for a:\n",
      "m=0, n=1\n",
      "Steps for b:\n",
      "checking the steps\n",
      "True\n",
      "\n",
      "a= 1  b= 3\n",
      "Path from 1 to 3:\n",
      "Steps for a:\n",
      "m=0, n=1\n",
      "m=1, n=1\n",
      "Steps for b:\n",
      "checking the steps\n",
      "True\n",
      "True\n",
      "\n",
      "a= 1  b= 4\n",
      "Path from 1 to 4:\n",
      "Steps for a:\n",
      "m=0, n=1\n",
      "m=1, n=1\n",
      "m=1, n=2\n",
      "m=3, n=3\n",
      "m=8, n=11\n",
      "Steps for b:\n",
      "m=0, n=4\n",
      "m=4, n=13\n",
      "checking the steps\n",
      "True\n",
      "True\n",
      "True\n",
      "True\n",
      "True\n",
      "True\n",
      "True\n",
      "\n",
      "a= 1  b= 5\n",
      "Path from 1 to 5:\n",
      "Steps for a:\n",
      "m=0, n=1\n",
      "m=0, n=2\n",
      "Steps for b:\n",
      "checking the steps\n",
      "True\n",
      "True\n",
      "\n",
      "a= 1  b= 6\n",
      "Path from 1 to 6:\n",
      "Steps for a:\n",
      "m=0, n=1\n",
      "m=1, n=1\n",
      "m=1, n=2\n",
      "Steps for b:\n",
      "checking the steps\n",
      "True\n",
      "True\n",
      "True\n",
      "\n",
      "a= 1  b= 7\n",
      "Path from 1 to 7:\n",
      "Steps for a:\n",
      "m=0, n=1\n",
      "m=0, n=2\n",
      "m=0, n=5\n",
      "Steps for b:\n",
      "m=3, n=4\n",
      "checking the steps\n",
      "True\n",
      "True\n",
      "True\n",
      "True\n",
      "\n",
      "a= 1  b= 8\n",
      "Path from 1 to 8:\n",
      "Steps for a:\n",
      "m=0, n=1\n",
      "m=1, n=1\n",
      "m=0, n=3\n",
      "m=5, n=5\n",
      "Steps for b:\n",
      "m=1, n=7\n",
      "checking the steps\n",
      "True\n",
      "True\n",
      "True\n",
      "True\n",
      "True\n",
      "\n",
      "a= 1  b= 9\n"
     ]
    }
   ],
   "source": [
    "N = 10\n",
    "checker = Checker(N)\n",
    "for a in range(1, N + 1):\n",
    "    for b in range(a + 1, N + 1):\n",
    "        print('\\na=', a, ' b=', b)\n",
    "        path = checker.get_path(a, b)\n",
    "        if path:\n",
    "            print(f\"Path from {path.a} to {path.b}:\")\n",
    "            print(\"Steps for a:\")\n",
    "            for step in path.steps[0]:\n",
    "                print(f\"m={step.m}, n={step.n}\")\n",
    "\n",
    "            print(\"Steps for b:\")\n",
    "            for step in path.steps[1]:\n",
    "                print(f\"m={step.m}, n={step.n}\")\n",
    "\n",
    "            print('checking the steps')\n",
    "            cur_a, cur_b = a, b\n",
    "            for numbers_step in path.steps[0]: # check a\n",
    "                print(numbers_step.m + numbers_step.n == cur_a)\n",
    "                cur_a  = numbers_step.next()\n",
    "\n",
    "            for numbers_step in path.steps[1]: # check b\n",
    "                print(numbers_step.m + numbers_step.n == cur_b)\n",
    "                cur_b = numbers_step.next()\n",
    "        else:\n",
    "            print('path not found')"
   ]
  }
 ],
 "metadata": {
  "kernelspec": {
   "display_name": "Python 3",
   "language": "python",
   "name": "python3"
  },
  "language_info": {
   "codemirror_mode": {
    "name": "ipython",
    "version": 3
   },
   "file_extension": ".py",
   "mimetype": "text/x-python",
   "name": "python",
   "nbconvert_exporter": "python",
   "pygments_lexer": "ipython3",
   "version": "3.12.4"
  }
 },
 "nbformat": 4,
 "nbformat_minor": 2
}
