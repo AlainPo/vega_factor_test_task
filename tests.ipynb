{
 "cells": [
  {
   "cell_type": "code",
   "execution_count": 1,
   "metadata": {},
   "outputs": [],
   "source": [
    "from numbers_checker import *\n",
    "from numbers_checker_test import *\n"
   ]
  },
  {
   "cell_type": "code",
   "execution_count": 2,
   "metadata": {},
   "outputs": [],
   "source": [
    "# Autoreload allows not to restart the kernel and automatically update the adjusted modules implementation. \n",
    "%load_ext autoreload\n",
    "%autoreload 2"
   ]
  },
  {
   "cell_type": "code",
   "execution_count": 3,
   "metadata": {},
   "outputs": [
    {
     "name": "stdout",
     "output_type": "stream",
     "text": [
      "NumbersPath(a=2, b=3, steps=([NumbersStep(m=1, n=1)], []))\n"
     ]
    }
   ],
   "source": [
    "test_23()"
   ]
  },
  {
   "cell_type": "code",
   "execution_count": 4,
   "metadata": {},
   "outputs": [
    {
     "name": "stdout",
     "output_type": "stream",
     "text": [
      "Нет общих значений.\n"
     ]
    },
    {
     "ename": "AttributeError",
     "evalue": "'NoneType' object has no attribute 'a'",
     "output_type": "error",
     "traceback": [
      "\u001b[0;31m---------------------------------------------------------------------------\u001b[0m",
      "\u001b[0;31mAttributeError\u001b[0m                            Traceback (most recent call last)",
      "Cell \u001b[0;32mIn[4], line 1\u001b[0m\n\u001b[0;32m----> 1\u001b[0m \u001b[43mtest_correct_path\u001b[49m\u001b[43m(\u001b[49m\u001b[38;5;241;43m10\u001b[39;49m\u001b[43m)\u001b[49m\n",
      "File \u001b[0;32m~/Documents/GitHub/vega_factor_test_task/numbers_checker_test.py:31\u001b[0m, in \u001b[0;36mtest_correct_path\u001b[0;34m(N)\u001b[0m\n\u001b[1;32m     29\u001b[0m \u001b[38;5;28;01mfor\u001b[39;00m b \u001b[38;5;129;01min\u001b[39;00m \u001b[38;5;28mrange\u001b[39m(a \u001b[38;5;241m+\u001b[39m \u001b[38;5;241m1\u001b[39m, N \u001b[38;5;241m+\u001b[39m \u001b[38;5;241m1\u001b[39m):\n\u001b[1;32m     30\u001b[0m     path \u001b[38;5;241m=\u001b[39m checker\u001b[38;5;241m.\u001b[39mget_path(a, b) \u001b[38;5;66;03m# возвращает NumberPath(a, b, steps=([NumbersStep], [NumbersStep]) )\u001b[39;00m\n\u001b[0;32m---> 31\u001b[0m     \u001b[38;5;28;01massert\u001b[39;00m \u001b[43mpath\u001b[49m\u001b[38;5;241;43m.\u001b[39;49m\u001b[43ma\u001b[49m \u001b[38;5;241m==\u001b[39m a\n\u001b[1;32m     32\u001b[0m     \u001b[38;5;28;01massert\u001b[39;00m path\u001b[38;5;241m.\u001b[39mb \u001b[38;5;241m==\u001b[39m b\n\u001b[1;32m     34\u001b[0m     cur_a, cur_b \u001b[38;5;241m=\u001b[39m a, b\n",
      "\u001b[0;31mAttributeError\u001b[0m: 'NoneType' object has no attribute 'a'"
     ]
    }
   ],
   "source": [
    "test_correct_path(10)"
   ]
  },
  {
   "cell_type": "code",
   "execution_count": 5,
   "metadata": {},
   "outputs": [
    {
     "name": "stdout",
     "output_type": "stream",
     "text": [
      "a= 1  b= 2\n",
      "NumbersPath(a=1, b=2, steps=([NumbersStep(m=0, n=1)], []))\n",
      "a= 1  b= 3\n",
      "NumbersPath(a=1, b=3, steps=([NumbersStep(m=0, n=1), NumbersStep(m=1, n=1)], []))\n",
      "a= 1  b= 4\n",
      "NumbersPath(a=1, b=4, steps=([NumbersStep(m=0, n=1), NumbersStep(m=1, n=1), NumbersStep(m=1, n=2), NumbersStep(m=3, n=3), NumbersStep(m=8, n=11)], [NumbersStep(m=0, n=4), NumbersStep(m=4, n=13)]))\n",
      "a= 1  b= 5\n",
      "NumbersPath(a=1, b=5, steps=([NumbersStep(m=0, n=1), NumbersStep(m=0, n=2)], []))\n",
      "a= 1  b= 6\n",
      "NumbersPath(a=1, b=6, steps=([NumbersStep(m=0, n=1), NumbersStep(m=1, n=1), NumbersStep(m=1, n=2)], []))\n",
      "a= 1  b= 7\n",
      "NumbersPath(a=1, b=7, steps=([NumbersStep(m=0, n=1), NumbersStep(m=0, n=2), NumbersStep(m=0, n=5)], [NumbersStep(m=3, n=4)]))\n",
      "a= 1  b= 8\n",
      "NumbersPath(a=1, b=8, steps=([NumbersStep(m=0, n=1), NumbersStep(m=1, n=1), NumbersStep(m=0, n=3), NumbersStep(m=5, n=5)], [NumbersStep(m=1, n=7)]))\n",
      "a= 1  b= 9\n",
      "NumbersPath(a=1, b=9, steps=([NumbersStep(m=0, n=1), NumbersStep(m=0, n=2), NumbersStep(m=0, n=5), NumbersStep(m=0, n=26), NumbersStep(m=54, n=623)], [NumbersStep(m=4, n=5), NumbersStep(m=21, n=21), NumbersStep(m=417, n=466)]))\n",
      "a= 1  b= 10\n",
      "NumbersPath(a=1, b=10, steps=([NumbersStep(m=0, n=1), NumbersStep(m=1, n=1), NumbersStep(m=0, n=3)], []))\n",
      "a= 2  b= 3\n",
      "NumbersPath(a=2, b=3, steps=([NumbersStep(m=1, n=1)], []))\n",
      "a= 2  b= 4\n",
      "NumbersPath(a=2, b=4, steps=([NumbersStep(m=1, n=1), NumbersStep(m=1, n=2), NumbersStep(m=3, n=3), NumbersStep(m=8, n=11)], [NumbersStep(m=0, n=4), NumbersStep(m=4, n=13)]))\n",
      "a= 2  b= 5\n",
      "NumbersPath(a=2, b=5, steps=([NumbersStep(m=0, n=2)], []))\n",
      "a= 2  b= 6\n",
      "NumbersPath(a=2, b=6, steps=([NumbersStep(m=1, n=1), NumbersStep(m=1, n=2)], []))\n",
      "a= 2  b= 7\n",
      "NumbersPath(a=2, b=7, steps=([NumbersStep(m=0, n=2), NumbersStep(m=0, n=5)], [NumbersStep(m=3, n=4)]))\n",
      "a= 2  b= 8\n",
      "NumbersPath(a=2, b=8, steps=([NumbersStep(m=1, n=1), NumbersStep(m=0, n=3), NumbersStep(m=5, n=5)], [NumbersStep(m=1, n=7)]))\n",
      "a= 2  b= 9\n",
      "NumbersPath(a=2, b=9, steps=([NumbersStep(m=0, n=2), NumbersStep(m=0, n=5), NumbersStep(m=0, n=26), NumbersStep(m=54, n=623)], [NumbersStep(m=4, n=5), NumbersStep(m=21, n=21), NumbersStep(m=417, n=466)]))\n",
      "a= 2  b= 10\n",
      "NumbersPath(a=2, b=10, steps=([NumbersStep(m=1, n=1), NumbersStep(m=0, n=3)], []))\n",
      "a= 3  b= 4\n",
      "NumbersPath(a=3, b=4, steps=([NumbersStep(m=1, n=2), NumbersStep(m=3, n=3), NumbersStep(m=8, n=11)], [NumbersStep(m=0, n=4), NumbersStep(m=4, n=13)]))\n",
      "a= 3  b= 5\n",
      "NumbersPath(a=3, b=5, steps=([NumbersStep(m=0, n=3), NumbersStep(m=0, n=10)], [NumbersStep(m=2, n=3), NumbersStep(m=6, n=8)]))\n",
      "a= 3  b= 6\n",
      "NumbersPath(a=3, b=6, steps=([NumbersStep(m=1, n=2)], []))\n",
      "a= 3  b= 7\n",
      "Нет общих значений.\n",
      "path not found\n",
      "a= 3  b= 8\n",
      "NumbersPath(a=3, b=8, steps=([NumbersStep(m=0, n=3), NumbersStep(m=5, n=5)], [NumbersStep(m=1, n=7)]))\n",
      "a= 3  b= 9\n",
      "Нет общих значений.\n",
      "path not found\n",
      "a= 3  b= 10\n",
      "NumbersPath(a=3, b=10, steps=([NumbersStep(m=0, n=3)], []))\n",
      "a= 4  b= 5\n",
      "NumbersPath(a=4, b=5, steps=([NumbersStep(m=2, n=2), NumbersStep(m=4, n=5), NumbersStep(m=21, n=21), NumbersStep(m=417, n=466)], [NumbersStep(m=0, n=5), NumbersStep(m=0, n=26), NumbersStep(m=54, n=623)]))\n",
      "a= 4  b= 6\n",
      "NumbersPath(a=4, b=6, steps=([NumbersStep(m=0, n=4), NumbersStep(m=4, n=13)], [NumbersStep(m=3, n=3), NumbersStep(m=8, n=11)]))\n",
      "a= 4  b= 7\n",
      "NumbersPath(a=4, b=7, steps=([NumbersStep(m=2, n=2), NumbersStep(m=4, n=5), NumbersStep(m=20, n=22)], [NumbersStep(m=1, n=6), NumbersStep(m=10, n=28)]))\n",
      "a= 4  b= 8\n",
      "Нет общих значений.\n",
      "path not found\n",
      "a= 4  b= 9\n",
      "NumbersPath(a=4, b=9, steps=([NumbersStep(m=2, n=2)], []))\n",
      "a= 4  b= 10\n",
      "Нет общих значений.\n",
      "path not found\n",
      "a= 5  b= 6\n",
      "Нет общих значений.\n",
      "path not found\n",
      "a= 5  b= 7\n",
      "NumbersPath(a=5, b=7, steps=([NumbersStep(m=0, n=5)], [NumbersStep(m=3, n=4)]))\n",
      "a= 5  b= 8\n",
      "Нет общих значений.\n",
      "path not found\n",
      "a= 5  b= 9\n",
      "NumbersPath(a=5, b=9, steps=([NumbersStep(m=0, n=5), NumbersStep(m=0, n=26), NumbersStep(m=54, n=623)], [NumbersStep(m=4, n=5), NumbersStep(m=21, n=21), NumbersStep(m=417, n=466)]))\n",
      "a= 5  b= 10\n",
      "NumbersPath(a=5, b=10, steps=([NumbersStep(m=2, n=3), NumbersStep(m=6, n=8)], [NumbersStep(m=0, n=10)]))\n",
      "a= 6  b= 7\n",
      "Нет общих значений.\n",
      "path not found\n",
      "a= 6  b= 8\n",
      "NumbersPath(a=6, b=8, steps=([NumbersStep(m=1, n=5), NumbersStep(m=4, n=23)], [NumbersStep(m=4, n=4), NumbersStep(m=16, n=17)]))\n",
      "a= 6  b= 9\n",
      "Нет общих значений.\n",
      "path not found\n",
      "a= 6  b= 10\n",
      "Нет общих значений.\n",
      "path not found\n",
      "a= 7  b= 8\n",
      "Нет общих значений.\n",
      "path not found\n",
      "a= 7  b= 9\n",
      "NumbersPath(a=7, b=9, steps=([NumbersStep(m=1, n=6), NumbersStep(m=10, n=28)], [NumbersStep(m=4, n=5), NumbersStep(m=20, n=22)]))\n",
      "a= 7  b= 10\n",
      "Нет общих значений.\n",
      "path not found\n",
      "a= 8  b= 9\n",
      "Нет общих значений.\n",
      "path not found\n",
      "a= 8  b= 10\n",
      "NumbersPath(a=8, b=10, steps=([NumbersStep(m=1, n=7)], [NumbersStep(m=5, n=5)]))\n",
      "a= 9  b= 10\n",
      "Нет общих значений.\n",
      "path not found\n"
     ]
    }
   ],
   "source": [
    "# вывод найденных путей для пар a, b и значений, для которых path не найден\n",
    "\n",
    "N = 10\n",
    "checker = Checker(N)\n",
    "for a in range(1, N + 1):\n",
    "    for b in range(a + 1, N + 1):\n",
    "        print('a=', a, ' b=', b)\n",
    "        path = checker.get_path(a, b) # возвращает NumberPath(a, b, steps=([NumbersStep], [NumbersStep]) )\n",
    "        if path:\n",
    "            print(path)\n",
    "            cur_a, cur_b = a, b\n",
    "            for numbers_step in path.steps[0]: # check a\n",
    "                numbers_step.m + numbers_step.n == cur_a\n",
    "                cur_a  = numbers_step.next()\n",
    "\n",
    "            for numbers_step in path.steps[1]: # check b\n",
    "                assert numbers_step.m + numbers_step.n == cur_b\n",
    "                cur_b = numbers_step.next()\n",
    "        else:\n",
    "            print('path not found')\n"
   ]
  }
 ],
 "metadata": {
  "kernelspec": {
   "display_name": "Python 3",
   "language": "python",
   "name": "python3"
  },
  "language_info": {
   "codemirror_mode": {
    "name": "ipython",
    "version": 3
   },
   "file_extension": ".py",
   "mimetype": "text/x-python",
   "name": "python",
   "nbconvert_exporter": "python",
   "pygments_lexer": "ipython3",
   "version": "3.12.4"
  }
 },
 "nbformat": 4,
 "nbformat_minor": 2
}
